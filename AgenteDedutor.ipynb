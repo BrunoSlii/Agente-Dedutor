{
  "nbformat": 4,
  "nbformat_minor": 0,
  "metadata": {
    "colab": {
      "provenance": []
    },
    "kernelspec": {
      "name": "python3",
      "display_name": "Python 3"
    },
    "language_info": {
      "name": "python"
    }
  },
  "cells": [
    {
      "cell_type": "code",
      "execution_count": null,
      "metadata": {
        "id": "wm-UclBpE4eu"
      },
      "outputs": [],
      "source": [
        "class BaseDeConhecimento:\n",
        "    def __init__(self):\n",
        "        self.fatos = []\n",
        "        self.regras = []\n",
        "\n",
        "    def adicionar_fato(self, fato):\n",
        "        self.fatos.append(fato)\n",
        "\n",
        "    def adicionar_regra(self, condicao, conclusao):\n",
        "        self.regras.append((condicao, conclusao))\n",
        "\n",
        "class SistemaEspecialista:\n",
        "    def __init__(self, base_conhecimento):\n",
        "        self.base_conhecimento = base_conhecimento\n",
        "\n",
        "    def inferir(self):\n",
        "        novos_fatos = True\n",
        "        while novos_fatos:\n",
        "            novos_fatos = False\n",
        "            for condicao, conclusao in self.base_conhecimento.regras:\n",
        "                if all(fato in self.base_conhecimento.fatos for fato in condicao):\n",
        "                    if conclusao not in self.base_conhecimento.fatos:\n",
        "                        self.base_conhecimento.fatos.append(conclusao)\n",
        "                        novos_fatos = True\n",
        "\n",
        "# Criando a base de conhecimento\n",
        "base = BaseDeConhecimento()\n",
        "\n",
        "# Adicionando fatos\n",
        "base.adicionar_fato(\"febre alta\")\n",
        "base.adicionar_fato(\"tosse\")\n",
        "\n",
        "# Adicionando regras\n",
        "base.adicionar_regra([\"febre alta\", \"tosse\"], \"infecção respiratória\")\n",
        "base.adicionar_regra([\"infecção respiratória\", \"dificuldade para respirar\"], \"pneumonia\")\n",
        "\n",
        "# Criando o sistema especialista\n",
        "sistema = SistemaEspecialista(base)\n",
        "\n",
        "# Executando a inferência\n",
        "sistema.inferir()\n",
        "\n",
        "# Exibindo os fatos atualizados\n",
        "print(\"Fatos inferidos:\")\n",
        "print(base.fatos)"
      ]
    }
  ]
}